{
 "cells": [
  {
   "cell_type": "code",
   "execution_count": 58,
   "id": "a3b6a805",
   "metadata": {},
   "outputs": [],
   "source": [
    "# Importing EDA modules...\n",
    "\n",
    "import numpy as np\n",
    "import pandas as pd\n",
    "import matplotlib.pyplot as plt"
   ]
  },
  {
   "cell_type": "code",
   "execution_count": 60,
   "id": "b93d7d5f",
   "metadata": {},
   "outputs": [
    {
     "data": {
      "text/html": [
       "<div>\n",
       "<style scoped>\n",
       "    .dataframe tbody tr th:only-of-type {\n",
       "        vertical-align: middle;\n",
       "    }\n",
       "\n",
       "    .dataframe tbody tr th {\n",
       "        vertical-align: top;\n",
       "    }\n",
       "\n",
       "    .dataframe thead th {\n",
       "        text-align: right;\n",
       "    }\n",
       "</style>\n",
       "<table border=\"1\" class=\"dataframe\">\n",
       "  <thead>\n",
       "    <tr style=\"text-align: right;\">\n",
       "      <th></th>\n",
       "      <th>Name</th>\n",
       "      <th>Year of release</th>\n",
       "      <th>Aired Date</th>\n",
       "      <th>Aired On</th>\n",
       "      <th>Number of Episode</th>\n",
       "      <th>Network</th>\n",
       "      <th>Duration</th>\n",
       "      <th>Content Rating</th>\n",
       "      <th>Synopsis</th>\n",
       "      <th>Cast</th>\n",
       "      <th>Genre</th>\n",
       "      <th>Tags</th>\n",
       "      <th>Rank</th>\n",
       "      <th>Rating</th>\n",
       "    </tr>\n",
       "  </thead>\n",
       "  <tbody>\n",
       "    <tr>\n",
       "      <th>0</th>\n",
       "      <td>Move to Heaven</td>\n",
       "      <td>2021</td>\n",
       "      <td>May 14, 2021</td>\n",
       "      <td>Friday</td>\n",
       "      <td>10</td>\n",
       "      <td>Netflix</td>\n",
       "      <td>52 min.</td>\n",
       "      <td>18+ Restricted (violence &amp; profanity)</td>\n",
       "      <td>Geu Roo is a young autistic man. He works for ...</td>\n",
       "      <td>Lee Je Hoon, Tang Jun Sang, Hong Seung Hee, Ju...</td>\n",
       "      <td>Life,  Drama,  Family</td>\n",
       "      <td>Autism, Uncle-Nephew Relationship, Death, Sava...</td>\n",
       "      <td>#1</td>\n",
       "      <td>9.2</td>\n",
       "    </tr>\n",
       "    <tr>\n",
       "      <th>1</th>\n",
       "      <td>Hospital Playlist</td>\n",
       "      <td>2020</td>\n",
       "      <td>Mar 12, 2020 - May 28, 2020</td>\n",
       "      <td>Thursday</td>\n",
       "      <td>12</td>\n",
       "      <td>Netflix,  tvN</td>\n",
       "      <td>1 hr. 30 min.</td>\n",
       "      <td>15+ - Teens 15 or older</td>\n",
       "      <td>The stories of people going through their days...</td>\n",
       "      <td>Jo Jung Suk, Yoo Yeon Seok, Jung Kyung Ho, Kim...</td>\n",
       "      <td>Friendship,  Romance,  Life,  Medical</td>\n",
       "      <td>Strong Friendship, Multiple Mains, Best Friend...</td>\n",
       "      <td>#2</td>\n",
       "      <td>9.1</td>\n",
       "    </tr>\n",
       "    <tr>\n",
       "      <th>2</th>\n",
       "      <td>Flower of Evil</td>\n",
       "      <td>2020</td>\n",
       "      <td>Jul 29, 2020 - Sep 23, 2020</td>\n",
       "      <td>Wednesday, Thursday</td>\n",
       "      <td>16</td>\n",
       "      <td>tvN</td>\n",
       "      <td>1 hr. 10 min.</td>\n",
       "      <td>15+ - Teens 15 or older</td>\n",
       "      <td>Although Baek Hee Sung is hiding a dark secret...</td>\n",
       "      <td>Lee Joon Gi, Moon Chae Won, Jang Hee Jin, Seo ...</td>\n",
       "      <td>Thriller,  Romance,  Crime,  Melodrama</td>\n",
       "      <td>Married Couple, Deception, Suspense, Family Se...</td>\n",
       "      <td>#3</td>\n",
       "      <td>9.1</td>\n",
       "    </tr>\n",
       "    <tr>\n",
       "      <th>3</th>\n",
       "      <td>Hospital Playlist 2</td>\n",
       "      <td>2021</td>\n",
       "      <td>Jun 17, 2021 - Sep 16, 2021</td>\n",
       "      <td>Thursday</td>\n",
       "      <td>12</td>\n",
       "      <td>Netflix,  tvN</td>\n",
       "      <td>1 hr. 40 min.</td>\n",
       "      <td>15+ - Teens 15 or older</td>\n",
       "      <td>Everyday is extraordinary for five doctors and...</td>\n",
       "      <td>Jo Jung Suk, Yoo Yeon Seok, Jung Kyung Ho, Kim...</td>\n",
       "      <td>Friendship,  Romance,  Life,  Medical</td>\n",
       "      <td>Workplace, Strong Friendship, Best Friends, Mu...</td>\n",
       "      <td>#4</td>\n",
       "      <td>9.1</td>\n",
       "    </tr>\n",
       "    <tr>\n",
       "      <th>4</th>\n",
       "      <td>My Mister</td>\n",
       "      <td>2018</td>\n",
       "      <td>Mar 21, 2018 - May 17, 2018</td>\n",
       "      <td>Wednesday, Thursday</td>\n",
       "      <td>16</td>\n",
       "      <td>tvN</td>\n",
       "      <td>1 hr. 17 min.</td>\n",
       "      <td>15+ - Teens 15 or older</td>\n",
       "      <td>Park Dong Hoon is a middle-aged engineer who i...</td>\n",
       "      <td>Lee Sun Kyun, IU, Park Ho San, Song Sae Byuk, ...</td>\n",
       "      <td>Psychological,  Life,  Drama,  Family</td>\n",
       "      <td>Age Gap, Nice Male Lead, Strong Female Lead, H...</td>\n",
       "      <td>#5</td>\n",
       "      <td>9.1</td>\n",
       "    </tr>\n",
       "  </tbody>\n",
       "</table>\n",
       "</div>"
      ],
      "text/plain": [
       "                  Name  Year of release                   Aired Date  \\\n",
       "0       Move to Heaven             2021                 May 14, 2021   \n",
       "1    Hospital Playlist             2020  Mar 12, 2020 - May 28, 2020   \n",
       "2       Flower of Evil             2020  Jul 29, 2020 - Sep 23, 2020   \n",
       "3  Hospital Playlist 2             2021  Jun 17, 2021 - Sep 16, 2021   \n",
       "4            My Mister             2018  Mar 21, 2018 - May 17, 2018   \n",
       "\n",
       "               Aired On  Number of Episode         Network       Duration  \\\n",
       "0                Friday                 10        Netflix         52 min.   \n",
       "1              Thursday                 12  Netflix,  tvN   1 hr. 30 min.   \n",
       "2   Wednesday, Thursday                 16            tvN   1 hr. 10 min.   \n",
       "3              Thursday                 12  Netflix,  tvN   1 hr. 40 min.   \n",
       "4   Wednesday, Thursday                 16            tvN   1 hr. 17 min.   \n",
       "\n",
       "                           Content Rating  \\\n",
       "0  18+ Restricted (violence & profanity)    \n",
       "1                15+ - Teens 15 or older    \n",
       "2                15+ - Teens 15 or older    \n",
       "3                15+ - Teens 15 or older    \n",
       "4                15+ - Teens 15 or older    \n",
       "\n",
       "                                            Synopsis  \\\n",
       "0  Geu Roo is a young autistic man. He works for ...   \n",
       "1  The stories of people going through their days...   \n",
       "2  Although Baek Hee Sung is hiding a dark secret...   \n",
       "3  Everyday is extraordinary for five doctors and...   \n",
       "4  Park Dong Hoon is a middle-aged engineer who i...   \n",
       "\n",
       "                                                Cast  \\\n",
       "0  Lee Je Hoon, Tang Jun Sang, Hong Seung Hee, Ju...   \n",
       "1  Jo Jung Suk, Yoo Yeon Seok, Jung Kyung Ho, Kim...   \n",
       "2  Lee Joon Gi, Moon Chae Won, Jang Hee Jin, Seo ...   \n",
       "3  Jo Jung Suk, Yoo Yeon Seok, Jung Kyung Ho, Kim...   \n",
       "4  Lee Sun Kyun, IU, Park Ho San, Song Sae Byuk, ...   \n",
       "\n",
       "                                     Genre  \\\n",
       "0                   Life,  Drama,  Family    \n",
       "1   Friendship,  Romance,  Life,  Medical    \n",
       "2  Thriller,  Romance,  Crime,  Melodrama    \n",
       "3   Friendship,  Romance,  Life,  Medical    \n",
       "4   Psychological,  Life,  Drama,  Family    \n",
       "\n",
       "                                                Tags Rank  Rating  \n",
       "0  Autism, Uncle-Nephew Relationship, Death, Sava...   #1     9.2  \n",
       "1  Strong Friendship, Multiple Mains, Best Friend...   #2     9.1  \n",
       "2  Married Couple, Deception, Suspense, Family Se...   #3     9.1  \n",
       "3  Workplace, Strong Friendship, Best Friends, Mu...   #4     9.1  \n",
       "4  Age Gap, Nice Male Lead, Strong Female Lead, H...   #5     9.1  "
      ]
     },
     "execution_count": 60,
     "metadata": {},
     "output_type": "execute_result"
    }
   ],
   "source": [
    "# Reading CSV file\n",
    "\n",
    "kdramas = pd.read_csv(\"top100_kdrama.csv\")\n",
    "\n",
    "# Displaying first 5 rows\n",
    "\n",
    "kdramas.head()"
   ]
  },
  {
   "cell_type": "code",
   "execution_count": 61,
   "id": "468d037f",
   "metadata": {
    "scrolled": true
   },
   "outputs": [
    {
     "name": "stdout",
     "output_type": "stream",
     "text": [
      "<class 'pandas.core.frame.DataFrame'>\n",
      "RangeIndex: 100 entries, 0 to 99\n",
      "Data columns (total 14 columns):\n",
      " #   Column             Non-Null Count  Dtype  \n",
      "---  ------             --------------  -----  \n",
      " 0   Name               100 non-null    object \n",
      " 1   Year of release    100 non-null    int64  \n",
      " 2   Aired Date         100 non-null    object \n",
      " 3   Aired On           100 non-null    object \n",
      " 4   Number of Episode  100 non-null    int64  \n",
      " 5   Network            100 non-null    object \n",
      " 6   Duration           100 non-null    object \n",
      " 7   Content Rating     100 non-null    object \n",
      " 8   Synopsis           100 non-null    object \n",
      " 9   Cast               100 non-null    object \n",
      " 10  Genre              100 non-null    object \n",
      " 11  Tags               100 non-null    object \n",
      " 12  Rank               100 non-null    object \n",
      " 13  Rating             100 non-null    float64\n",
      "dtypes: float64(1), int64(2), object(11)\n",
      "memory usage: 11.1+ KB\n"
     ]
    }
   ],
   "source": [
    "# Getting column names and info\n",
    "\n",
    "kdramas.info()"
   ]
  },
  {
   "cell_type": "code",
   "execution_count": 62,
   "id": "f93b4725",
   "metadata": {},
   "outputs": [
    {
     "data": {
      "text/plain": [
       "Name                 False\n",
       "Year of release      False\n",
       "Aired Date           False\n",
       "Aired On             False\n",
       "Number of Episode    False\n",
       "Network              False\n",
       "Duration             False\n",
       "Content Rating       False\n",
       "Synopsis             False\n",
       "Cast                 False\n",
       "Genre                False\n",
       "Tags                 False\n",
       "Rank                 False\n",
       "Rating               False\n",
       "dtype: bool"
      ]
     },
     "execution_count": 62,
     "metadata": {},
     "output_type": "execute_result"
    }
   ],
   "source": [
    "# Checking for NaN values\n",
    "\n",
    "kdramas.isna().any()"
   ]
  },
  {
   "cell_type": "markdown",
   "id": "03e2f045",
   "metadata": {},
   "source": [
    "# Top 10 Kdramas by Rating"
   ]
  },
  {
   "cell_type": "code",
   "execution_count": 63,
   "id": "ea1372dd",
   "metadata": {
    "scrolled": false
   },
   "outputs": [
    {
     "data": {
      "text/html": [
       "<div>\n",
       "<style scoped>\n",
       "    .dataframe tbody tr th:only-of-type {\n",
       "        vertical-align: middle;\n",
       "    }\n",
       "\n",
       "    .dataframe tbody tr th {\n",
       "        vertical-align: top;\n",
       "    }\n",
       "\n",
       "    .dataframe thead th {\n",
       "        text-align: right;\n",
       "    }\n",
       "</style>\n",
       "<table border=\"1\" class=\"dataframe\">\n",
       "  <thead>\n",
       "    <tr style=\"text-align: right;\">\n",
       "      <th></th>\n",
       "      <th>Name</th>\n",
       "      <th>Rating</th>\n",
       "    </tr>\n",
       "  </thead>\n",
       "  <tbody>\n",
       "    <tr>\n",
       "      <th>0</th>\n",
       "      <td>Move to Heaven</td>\n",
       "      <td>9.2</td>\n",
       "    </tr>\n",
       "    <tr>\n",
       "      <th>2</th>\n",
       "      <td>Flower of Evil</td>\n",
       "      <td>9.1</td>\n",
       "    </tr>\n",
       "    <tr>\n",
       "      <th>3</th>\n",
       "      <td>Hospital Playlist 2</td>\n",
       "      <td>9.1</td>\n",
       "    </tr>\n",
       "    <tr>\n",
       "      <th>4</th>\n",
       "      <td>My Mister</td>\n",
       "      <td>9.1</td>\n",
       "    </tr>\n",
       "    <tr>\n",
       "      <th>5</th>\n",
       "      <td>Prison Playbook</td>\n",
       "      <td>9.1</td>\n",
       "    </tr>\n",
       "    <tr>\n",
       "      <th>1</th>\n",
       "      <td>Hospital Playlist</td>\n",
       "      <td>9.1</td>\n",
       "    </tr>\n",
       "    <tr>\n",
       "      <th>10</th>\n",
       "      <td>Signal</td>\n",
       "      <td>9.0</td>\n",
       "    </tr>\n",
       "    <tr>\n",
       "      <th>13</th>\n",
       "      <td>Vincenzo</td>\n",
       "      <td>9.0</td>\n",
       "    </tr>\n",
       "    <tr>\n",
       "      <th>12</th>\n",
       "      <td>Happiness</td>\n",
       "      <td>9.0</td>\n",
       "    </tr>\n",
       "    <tr>\n",
       "      <th>11</th>\n",
       "      <td>Navillera</td>\n",
       "      <td>9.0</td>\n",
       "    </tr>\n",
       "  </tbody>\n",
       "</table>\n",
       "</div>"
      ],
      "text/plain": [
       "                   Name  Rating\n",
       "0        Move to Heaven     9.2\n",
       "2        Flower of Evil     9.1\n",
       "3   Hospital Playlist 2     9.1\n",
       "4             My Mister     9.1\n",
       "5       Prison Playbook     9.1\n",
       "1     Hospital Playlist     9.1\n",
       "10               Signal     9.0\n",
       "13             Vincenzo     9.0\n",
       "12            Happiness     9.0\n",
       "11            Navillera     9.0"
      ]
     },
     "execution_count": 63,
     "metadata": {},
     "output_type": "execute_result"
    }
   ],
   "source": [
    "# Sort values, Get first 10, Get (Name & Rating) columns\n",
    "kdramas.sort_values(by=\"Rating\", ascending=False)[:10][[\"Name\", \"Rating\"]]"
   ]
  },
  {
   "cell_type": "markdown",
   "id": "6d1e517b",
   "metadata": {},
   "source": [
    "# Top 10 Kdramas with the most episodes"
   ]
  },
  {
   "cell_type": "code",
   "execution_count": 64,
   "id": "a2d255c3",
   "metadata": {},
   "outputs": [
    {
     "data": {
      "text/html": [
       "<div>\n",
       "<style scoped>\n",
       "    .dataframe tbody tr th:only-of-type {\n",
       "        vertical-align: middle;\n",
       "    }\n",
       "\n",
       "    .dataframe tbody tr th {\n",
       "        vertical-align: top;\n",
       "    }\n",
       "\n",
       "    .dataframe thead th {\n",
       "        text-align: right;\n",
       "    }\n",
       "</style>\n",
       "<table border=\"1\" class=\"dataframe\">\n",
       "  <thead>\n",
       "    <tr style=\"text-align: right;\">\n",
       "      <th></th>\n",
       "      <th>Name</th>\n",
       "      <th>Number of Episode</th>\n",
       "    </tr>\n",
       "  </thead>\n",
       "  <tbody>\n",
       "    <tr>\n",
       "      <th>81</th>\n",
       "      <td>Once Again</td>\n",
       "      <td>100</td>\n",
       "    </tr>\n",
       "    <tr>\n",
       "      <th>64</th>\n",
       "      <td>Jewel in the Palace</td>\n",
       "      <td>54</td>\n",
       "    </tr>\n",
       "    <tr>\n",
       "      <th>65</th>\n",
       "      <td>My Father is Strange</td>\n",
       "      <td>52</td>\n",
       "    </tr>\n",
       "    <tr>\n",
       "      <th>71</th>\n",
       "      <td>Empress Ki</td>\n",
       "      <td>51</td>\n",
       "    </tr>\n",
       "    <tr>\n",
       "      <th>32</th>\n",
       "      <td>Six Flying Dragons</td>\n",
       "      <td>50</td>\n",
       "    </tr>\n",
       "    <tr>\n",
       "      <th>51</th>\n",
       "      <td>The Fiery Priest</td>\n",
       "      <td>40</td>\n",
       "    </tr>\n",
       "    <tr>\n",
       "      <th>97</th>\n",
       "      <td>When the Camellia Blooms</td>\n",
       "      <td>40</td>\n",
       "    </tr>\n",
       "    <tr>\n",
       "      <th>41</th>\n",
       "      <td>While You Were Sleeping</td>\n",
       "      <td>32</td>\n",
       "    </tr>\n",
       "    <tr>\n",
       "      <th>96</th>\n",
       "      <td>Doctor John</td>\n",
       "      <td>32</td>\n",
       "    </tr>\n",
       "    <tr>\n",
       "      <th>63</th>\n",
       "      <td>Partners for Justice 2</td>\n",
       "      <td>32</td>\n",
       "    </tr>\n",
       "  </tbody>\n",
       "</table>\n",
       "</div>"
      ],
      "text/plain": [
       "                        Name  Number of Episode\n",
       "81                Once Again                100\n",
       "64       Jewel in the Palace                 54\n",
       "65      My Father is Strange                 52\n",
       "71                Empress Ki                 51\n",
       "32        Six Flying Dragons                 50\n",
       "51          The Fiery Priest                 40\n",
       "97  When the Camellia Blooms                 40\n",
       "41   While You Were Sleeping                 32\n",
       "96               Doctor John                 32\n",
       "63    Partners for Justice 2                 32"
      ]
     },
     "execution_count": 64,
     "metadata": {},
     "output_type": "execute_result"
    }
   ],
   "source": [
    "# Sort values, Get first 10, Get (Name & Number of Episode) columns\n",
    "\n",
    "most_episodes = kdramas.sort_values(by=\"Number of Episode\", ascending=False)[:10][[\"Name\", \"Number of Episode\"]]\n",
    "most_episodes"
   ]
  },
  {
   "cell_type": "markdown",
   "id": "7346f9d8",
   "metadata": {},
   "source": [
    "# Does number of episodes affect the shows rating?"
   ]
  },
  {
   "cell_type": "code",
   "execution_count": 65,
   "id": "6b7aa506",
   "metadata": {},
   "outputs": [
    {
     "data": {
      "image/png": "[encoded data removed]",
      "text/plain": [
       "<Figure size 792x504 with 1 Axes>"
      ]
     },
     "metadata": {
      "needs_background": "light"
     },
     "output_type": "display_data"
    },
    {
     "data": {
      "text/html": [
       "<div>\n",
       "<style scoped>\n",
       "    .dataframe tbody tr th:only-of-type {\n",
       "        vertical-align: middle;\n",
       "    }\n",
       "\n",
       "    .dataframe tbody tr th {\n",
       "        vertical-align: top;\n",
       "    }\n",
       "\n",
       "    .dataframe thead th {\n",
       "        text-align: right;\n",
       "    }\n",
       "</style>\n",
       "<table border=\"1\" class=\"dataframe\">\n",
       "  <thead>\n",
       "    <tr style=\"text-align: right;\">\n",
       "      <th></th>\n",
       "      <th>Name</th>\n",
       "      <th>Number of Episode</th>\n",
       "      <th>Rating</th>\n",
       "    </tr>\n",
       "  </thead>\n",
       "  <tbody>\n",
       "    <tr>\n",
       "      <th>0</th>\n",
       "      <td>Move to Heaven</td>\n",
       "      <td>10</td>\n",
       "      <td>9.2</td>\n",
       "    </tr>\n",
       "    <tr>\n",
       "      <th>2</th>\n",
       "      <td>Flower of Evil</td>\n",
       "      <td>16</td>\n",
       "      <td>9.1</td>\n",
       "    </tr>\n",
       "    <tr>\n",
       "      <th>3</th>\n",
       "      <td>Hospital Playlist 2</td>\n",
       "      <td>12</td>\n",
       "      <td>9.1</td>\n",
       "    </tr>\n",
       "    <tr>\n",
       "      <th>4</th>\n",
       "      <td>My Mister</td>\n",
       "      <td>16</td>\n",
       "      <td>9.1</td>\n",
       "    </tr>\n",
       "    <tr>\n",
       "      <th>5</th>\n",
       "      <td>Prison Playbook</td>\n",
       "      <td>16</td>\n",
       "      <td>9.1</td>\n",
       "    </tr>\n",
       "    <tr>\n",
       "      <th>1</th>\n",
       "      <td>Hospital Playlist</td>\n",
       "      <td>12</td>\n",
       "      <td>9.1</td>\n",
       "    </tr>\n",
       "    <tr>\n",
       "      <th>10</th>\n",
       "      <td>Signal</td>\n",
       "      <td>16</td>\n",
       "      <td>9.0</td>\n",
       "    </tr>\n",
       "    <tr>\n",
       "      <th>13</th>\n",
       "      <td>Vincenzo</td>\n",
       "      <td>20</td>\n",
       "      <td>9.0</td>\n",
       "    </tr>\n",
       "    <tr>\n",
       "      <th>12</th>\n",
       "      <td>Happiness</td>\n",
       "      <td>12</td>\n",
       "      <td>9.0</td>\n",
       "    </tr>\n",
       "    <tr>\n",
       "      <th>11</th>\n",
       "      <td>Navillera</td>\n",
       "      <td>12</td>\n",
       "      <td>9.0</td>\n",
       "    </tr>\n",
       "    <tr>\n",
       "      <th>14</th>\n",
       "      <td>Crash Landing on You</td>\n",
       "      <td>16</td>\n",
       "      <td>9.0</td>\n",
       "    </tr>\n",
       "    <tr>\n",
       "      <th>9</th>\n",
       "      <td>Mother</td>\n",
       "      <td>16</td>\n",
       "      <td>9.0</td>\n",
       "    </tr>\n",
       "    <tr>\n",
       "      <th>7</th>\n",
       "      <td>It's Okay to Not Be Okay</td>\n",
       "      <td>16</td>\n",
       "      <td>9.0</td>\n",
       "    </tr>\n",
       "    <tr>\n",
       "      <th>6</th>\n",
       "      <td>Reply 1988</td>\n",
       "      <td>20</td>\n",
       "      <td>9.0</td>\n",
       "    </tr>\n",
       "    <tr>\n",
       "      <th>8</th>\n",
       "      <td>Mr. Queen</td>\n",
       "      <td>20</td>\n",
       "      <td>9.0</td>\n",
       "    </tr>\n",
       "  </tbody>\n",
       "</table>\n",
       "</div>"
      ],
      "text/plain": [
       "                        Name  Number of Episode  Rating\n",
       "0             Move to Heaven                 10     9.2\n",
       "2             Flower of Evil                 16     9.1\n",
       "3        Hospital Playlist 2                 12     9.1\n",
       "4                  My Mister                 16     9.1\n",
       "5            Prison Playbook                 16     9.1\n",
       "1          Hospital Playlist                 12     9.1\n",
       "10                    Signal                 16     9.0\n",
       "13                  Vincenzo                 20     9.0\n",
       "12                 Happiness                 12     9.0\n",
       "11                 Navillera                 12     9.0\n",
       "14      Crash Landing on You                 16     9.0\n",
       "9                     Mother                 16     9.0\n",
       "7   It's Okay to Not Be Okay                 16     9.0\n",
       "6                 Reply 1988                 20     9.0\n",
       "8                  Mr. Queen                 20     9.0"
      ]
     },
     "execution_count": 65,
     "metadata": {},
     "output_type": "execute_result"
    }
   ],
   "source": [
    "most_episodes_and_rating = kdramas.sort_values(by=\"Rating\", ascending=False)[[\"Name\", \"Number of Episode\", \"Rating\"]]\n",
    "\n",
    "most_episodes_and_rating.plot(kind=\"scatter\", x=\"Number of Episode\", y=\"Rating\")\n",
    "\n",
    "plt.show()\n",
    "most_episodes_and_rating[most_episodes_and_rating[\"Rating\"] >= 9.0] \n",
    "# Shows between 10 and 20 episodes tend to do the best."
   ]
  },
  {
   "cell_type": "markdown",
   "id": "6051a804",
   "metadata": {},
   "source": [
    "# Does duration affect ratings?"
   ]
  },
  {
   "cell_type": "code",
   "execution_count": 91,
   "id": "4369063b",
   "metadata": {},
   "outputs": [
    {
     "name": "stderr",
     "output_type": "stream",
     "text": [
      "C:\\Users\\TRISTA~1\\AppData\\Local\\Temp/ipykernel_13028/394382231.py:2: FutureWarning: The default value of regex will change from True to False in a future version.\n",
      "  duration_and_rating['Duration'] = duration_and_rating['Duration'].str.replace(\" hr.\", '*60')\\\n"
     ]
    },
    {
     "data": {
      "text/html": [
       "<div>\n",
       "<style scoped>\n",
       "    .dataframe tbody tr th:only-of-type {\n",
       "        vertical-align: middle;\n",
       "    }\n",
       "\n",
       "    .dataframe tbody tr th {\n",
       "        vertical-align: top;\n",
       "    }\n",
       "\n",
       "    .dataframe thead th {\n",
       "        text-align: right;\n",
       "    }\n",
       "</style>\n",
       "<table border=\"1\" class=\"dataframe\">\n",
       "  <thead>\n",
       "    <tr style=\"text-align: right;\">\n",
       "      <th></th>\n",
       "      <th>Name</th>\n",
       "      <th>Duration</th>\n",
       "      <th>Rating</th>\n",
       "    </tr>\n",
       "  </thead>\n",
       "  <tbody>\n",
       "    <tr>\n",
       "      <th>0</th>\n",
       "      <td>Move to Heaven</td>\n",
       "      <td>52.0</td>\n",
       "      <td>9.2</td>\n",
       "    </tr>\n",
       "    <tr>\n",
       "      <th>2</th>\n",
       "      <td>Flower of Evil</td>\n",
       "      <td>70.0</td>\n",
       "      <td>9.1</td>\n",
       "    </tr>\n",
       "    <tr>\n",
       "      <th>3</th>\n",
       "      <td>Hospital Playlist 2</td>\n",
       "      <td>100.0</td>\n",
       "      <td>9.1</td>\n",
       "    </tr>\n",
       "    <tr>\n",
       "      <th>4</th>\n",
       "      <td>My Mister</td>\n",
       "      <td>77.0</td>\n",
       "      <td>9.1</td>\n",
       "    </tr>\n",
       "    <tr>\n",
       "      <th>5</th>\n",
       "      <td>Prison Playbook</td>\n",
       "      <td>92.0</td>\n",
       "      <td>9.1</td>\n",
       "    </tr>\n",
       "  </tbody>\n",
       "</table>\n",
       "</div>"
      ],
      "text/plain": [
       "                  Name  Duration  Rating\n",
       "0       Move to Heaven      52.0     9.2\n",
       "2       Flower of Evil      70.0     9.1\n",
       "3  Hospital Playlist 2     100.0     9.1\n",
       "4            My Mister      77.0     9.1\n",
       "5      Prison Playbook      92.0     9.1"
      ]
     },
     "execution_count": 91,
     "metadata": {},
     "output_type": "execute_result"
    }
   ],
   "source": [
    "duration_and_rating = kdramas.sort_values(by=\"Rating\", ascending=False)[[\"Name\", \"Duration\", \"Rating\"]]\n",
    "duration_and_rating['Duration'] = duration_and_rating['Duration'].str.replace(\" hr.\", '*60')\\\n",
    "                                .str.replace(' min','*1').str.replace(' sec','*0.01')\\\n",
    "                                .str.replace(' ','+').apply(eval)\n",
    "\n",
    "duration_and_rating.head()"
   ]
  },
  {
   "cell_type": "code",
   "execution_count": 97,
   "id": "7e3da5e2",
   "metadata": {},
   "outputs": [
    {
     "data": {
      "image/png": "[encoded data removed]",
      "text/plain": [
       "<Figure size 792x504 with 1 Axes>"
      ]
     },
     "metadata": {
      "needs_background": "light"
     },
     "output_type": "display_data"
    },
    {
     "data": {
      "text/html": [
       "<div>\n",
       "<style scoped>\n",
       "    .dataframe tbody tr th:only-of-type {\n",
       "        vertical-align: middle;\n",
       "    }\n",
       "\n",
       "    .dataframe tbody tr th {\n",
       "        vertical-align: top;\n",
       "    }\n",
       "\n",
       "    .dataframe thead th {\n",
       "        text-align: right;\n",
       "    }\n",
       "</style>\n",
       "<table border=\"1\" class=\"dataframe\">\n",
       "  <thead>\n",
       "    <tr style=\"text-align: right;\">\n",
       "      <th></th>\n",
       "      <th>Name</th>\n",
       "      <th>Duration</th>\n",
       "      <th>Rating</th>\n",
       "    </tr>\n",
       "  </thead>\n",
       "  <tbody>\n",
       "    <tr>\n",
       "      <th>0</th>\n",
       "      <td>Move to Heaven</td>\n",
       "      <td>52.0</td>\n",
       "      <td>9.2</td>\n",
       "    </tr>\n",
       "    <tr>\n",
       "      <th>2</th>\n",
       "      <td>Flower of Evil</td>\n",
       "      <td>70.0</td>\n",
       "      <td>9.1</td>\n",
       "    </tr>\n",
       "    <tr>\n",
       "      <th>3</th>\n",
       "      <td>Hospital Playlist 2</td>\n",
       "      <td>100.0</td>\n",
       "      <td>9.1</td>\n",
       "    </tr>\n",
       "    <tr>\n",
       "      <th>4</th>\n",
       "      <td>My Mister</td>\n",
       "      <td>77.0</td>\n",
       "      <td>9.1</td>\n",
       "    </tr>\n",
       "    <tr>\n",
       "      <th>5</th>\n",
       "      <td>Prison Playbook</td>\n",
       "      <td>92.0</td>\n",
       "      <td>9.1</td>\n",
       "    </tr>\n",
       "    <tr>\n",
       "      <th>1</th>\n",
       "      <td>Hospital Playlist</td>\n",
       "      <td>90.0</td>\n",
       "      <td>9.1</td>\n",
       "    </tr>\n",
       "  </tbody>\n",
       "</table>\n",
       "</div>"
      ],
      "text/plain": [
       "                  Name  Duration  Rating\n",
       "0       Move to Heaven      52.0     9.2\n",
       "2       Flower of Evil      70.0     9.1\n",
       "3  Hospital Playlist 2     100.0     9.1\n",
       "4            My Mister      77.0     9.1\n",
       "5      Prison Playbook      92.0     9.1\n",
       "1    Hospital Playlist      90.0     9.1"
      ]
     },
     "execution_count": 97,
     "metadata": {},
     "output_type": "execute_result"
    }
   ],
   "source": [
    "colors = np.where(duration_and_rating[\"Duration\"] < 40, \"red\", \\\n",
    "                  np.where(duration_and_rating[\"Duration\"] < 60, \"orange\", \\\n",
    "                            np.where(duration_and_rating[\"Duration\"] < 70, \"lightgreen\", \\\n",
    "                                    np.where(duration_and_rating[\"Duration\"] < 80, \"orange\", \"red\"))))\n",
    "\n",
    "duration_and_rating.plot(kind=\"scatter\", x=\"Duration\", y=\"Rating\", c=colors)\n",
    "plt.show()\n",
    "\n",
    "duration_and_rating[duration_and_rating[\"Rating\"] > 9.0]\n",
    "# Episodes that last"
   ]
  },
  {
   "cell_type": "markdown",
   "id": "4b5358c5",
   "metadata": {},
   "source": [
    "# Release Year"
   ]
  },
  {
   "cell_type": "code",
   "execution_count": 66,
   "id": "8370121b",
   "metadata": {},
   "outputs": [
    {
     "data": {
      "image/png": "[encoded data removed]",
      "text/plain": [
       "<Figure size 792x504 with 1 Axes>"
      ]
     },
     "metadata": {
      "needs_background": "light"
     },
     "output_type": "display_data"
    },
    {
     "data": {
      "text/plain": [
       "2003     1\n",
       "2012     2\n",
       "2013     5\n",
       "2014     4\n",
       "2015     3\n",
       "2016     8\n",
       "2017    16\n",
       "2018    10\n",
       "2019    15\n",
       "2020    17\n",
       "2021    19\n",
       "Name: Year of release, dtype: int64"
      ]
     },
     "execution_count": 66,
     "metadata": {},
     "output_type": "execute_result"
    }
   ],
   "source": [
    "kdramas_ry = kdramas[\"Year of release\"].value_counts().sort_index()\n",
    "\n",
    "kdramas_ry.plot(kind=\"bar\", title=\"The top 100 Korean Dramas released by year\", color=\"pink\")\n",
    "plt.ylabel(\"Count\")\n",
    "plt.xlabel(\"Year of Release\")\n",
    "\n",
    "plt.show()\n",
    "kdramas_ry"
   ]
  },
  {
   "cell_type": "markdown",
   "id": "b0ccd48e",
   "metadata": {},
   "source": [
    "# Networks "
   ]
  },
  {
   "cell_type": "code",
   "execution_count": 67,
   "id": "1cc406eb",
   "metadata": {},
   "outputs": [
    {
     "data": {
      "text/plain": [
       "array(['Netflix', 'tvN', 'jTBC', 'KBS2', 'SBS', 'MBC', 'OCN'],\n",
       "      dtype=object)"
      ]
     },
     "execution_count": 67,
     "metadata": {},
     "output_type": "execute_result"
    }
   ],
   "source": [
    "# Getting rid of double networks (e.g. Netflix, tvN)\n",
    "networks = [x.replace(\" \", \"\").split(\",\")[0] for x in kdramas[\"Network\"]]\n",
    "kdramas[\"Network\"] = networks\n",
    "kdramas[\"Network\"].unique() # No more double networks"
   ]
  },
  {
   "cell_type": "code",
   "execution_count": 55,
   "id": "ab0bba1f",
   "metadata": {},
   "outputs": [
    {
     "data": {
      "image/png": "[encoded data removed]",
      "text/plain": [
       "<Figure size 792x504 with 1 Axes>"
      ]
     },
     "metadata": {},
     "output_type": "display_data"
    },
    {
     "data": {
      "text/plain": [
       "Netflix    26\n",
       "tvN        19\n",
       "SBS        17\n",
       "jTBC       11\n",
       "KBS2       11\n",
       "MBC         9\n",
       "OCN         7\n",
       "Name: Network, dtype: int64"
      ]
     },
     "execution_count": 55,
     "metadata": {},
     "output_type": "execute_result"
    }
   ],
   "source": [
    "labels = list(kdramas[\"Network\"].unique())\n",
    "plt.rcParams['figure.figsize'] = [11, 7]\n",
    "\n",
    "plt.title(\"Network segmentation of Top 100 Kdramas\")\n",
    "\n",
    "kdramas[\"Network\"].value_counts().plot(kind=\"pie\", labels=labels,  autopct='%.2f%%', startangle=90)\n",
    "\n",
    "plt.show()\n",
    "kdramas[\"Network\"].value_counts()"
   ]
  },
  {
   "cell_type": "code",
   "execution_count": null,
   "id": "354bca69",
   "metadata": {},
   "outputs": [],
   "source": []
  }
 ],
 "metadata": {
  "kernelspec": {
   "display_name": "Python 3 (ipykernel)",
   "language": "python",
   "name": "python3"
  },
  "language_info": {
   "codemirror_mode": {
    "name": "ipython",
    "version": 3
   },
   "file_extension": ".py",
   "mimetype": "text/x-python",
   "name": "python",
   "nbconvert_exporter": "python",
   "pygments_lexer": "ipython3",
   "version": "3.9.7"
  }
 },
 "nbformat": 4,
 "nbformat_minor": 5
}
